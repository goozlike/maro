{
 "cells": [
  {
   "cell_type": "code",
   "execution_count": 136,
   "metadata": {},
   "outputs": [],
   "source": [
    "import pandas as pd\n",
    "import numpy as np\n",
    "import matplotlib.pyplot as plt\n"
   ]
  },
  {
   "cell_type": "code",
   "execution_count": 317,
   "metadata": {},
   "outputs": [],
   "source": [
    "def parse(path):\n",
    "    raw = pd.read_pickle(path)\n",
    "    df = pd.DataFrame(map(lambda x: dict(\n",
    "            cpu=x['request']['cpu'],\n",
    "            mem=x['request']['mem'],\n",
    "            lifetime=x['request']['lifetime'],\n",
    "            is_double=x['request']['is_double'],\n",
    "            request_type=x['request']['type'],\n",
    "            request_uuid=x['request']['uuid'],\n",
    "            time = x['request']['time'],\n",
    "            server=x['server'],\n",
    "            action=x['action'],\n",
    "            energy=x['energy'],\n",
    "        ), raw))\n",
    "\n",
    "    scores = []\n",
    "    scores_end = []\n",
    "    current_score = 0\n",
    "    max_tick = df.iloc[[-1]].time.values[0]\n",
    "    current_score_up_to_end = 0\n",
    "\n",
    "    losses = []\n",
    "    current_loss = 0\n",
    "    \n",
    "    for ind, row in df.iterrows():\n",
    "        # for row in df[['request_type', 'cpu', 'mem', 'lifetime']]:\n",
    "        curr_tick = row.time\n",
    "        if row.request_type == 0:\n",
    "            current_score += 1 * row.lifetime * (row.cpu * 0.0698 + row.mem * 0.0078) / 12\n",
    "            current_score_up_to_end += 1 * min(row.lifetime, max_tick - curr_tick - 1) * (row.cpu * 0.0698 + row.mem * 0.0078) / 12\n",
    "        else:\n",
    "            current_loss -= 1 * row.lifetime * (row.cpu * 0.0698 + row.mem * 0.0078) / 60\n",
    "        # else:\n",
    "        #     current_score -= 1 * row.lifetime * ()\n",
    "        scores.append(round(current_score, 3))\n",
    "        scores_end.append(round(current_score_up_to_end, 3))\n",
    "        losses.append(round(current_loss, 3))\n",
    "    df[\"score\"] = scores\n",
    "    df[\"cur_score\"] = scores_end\n",
    "    df[\"loss\"] = losses\n",
    "    return df\n",
    "\n",
    "def get_mean_util(df):\n",
    "    tick_server_states = df.groupby('time')['server'].last()\n",
    "\n",
    "    free_cpu = []\n",
    "    free_mem = []\n",
    "    n_servers = len(tick_server_states[0])\n",
    "    max_cpu = n_servers * 32\n",
    "    max_mem = n_servers * 128\n",
    "    for state in tick_server_states:\n",
    "        current_free_cpu = 0\n",
    "        current_free_mem = 0\n",
    "        for server in state:\n",
    "            server = server[0]\n",
    "            \n",
    "            current_free_cpu += server[0]\n",
    "            current_free_mem += server[1]\n",
    "        \n",
    "        free_cpu.append(current_free_cpu / max_cpu)\n",
    "        free_mem.append(current_free_mem / max_mem)\n",
    "    \n",
    "    return 1 - np.mean(free_cpu), 1 - np.mean(free_mem)\n",
    "\n",
    "def get_mean_util(df):\n",
    "    tick_server_states = df.groupby('time')['server'].last()\n",
    "\n",
    "    free_cpu = []\n",
    "    free_mem = []\n",
    "    n_servers = len(tick_server_states[0])\n",
    "    max_cpu = n_servers * 32\n",
    "    max_mem = n_servers * 128\n",
    "    for state in tick_server_states:\n",
    "        current_free_cpu = 0\n",
    "        current_free_mem = 0\n",
    "        for server in state:\n",
    "            server = server[0]\n",
    "            \n",
    "            current_free_cpu += server[0]\n",
    "            current_free_mem += server[1]\n",
    "        \n",
    "        free_cpu.append(current_free_cpu / max_cpu)\n",
    "        free_mem.append(current_free_mem / max_mem)\n",
    "    \n",
    "    return 1 - np.mean(free_cpu), 1 - np.mean(free_mem)\n",
    "\n",
    "\n",
    "def get_energy(df):\n",
    "    e = df.groupby('time')['energy'].last()\n",
    "    e = e.reindex(list(range(e.index.min(),e.index.max()+1)),method='bfill')\n",
    "    current_energy = 0\n",
    "    energy = []\n",
    "    for row in e:\n",
    "        current_energy += row\n",
    "        energy.append(current_energy)\n",
    "    \n",
    "    return energy\n",
    "\n",
    "def get_rewards(df):\n",
    "    df2 = df.groupby('time')['score'].last()\n",
    "    df2.reindex(list(range(df2.index.min(),df2.index.max()+1)),method='bfill')\n",
    "    return df2\n",
    "\n",
    "def get_reward_by_tick(df):\n",
    "    df2 = df.groupby('time')['cur_score'].last()\n",
    "    df2.reindex(list(range(df2.index.min(),df2.index.max()+1)),method='bfill')\n",
    "    return df2\n",
    "\n",
    "def get_losses_by_tick(df):\n",
    "    df2 = df.groupby('time')['loss'].last()\n",
    "    df2.reindex(list(range(df2.index.min(),df2.index.max()+1)),method='bfill')\n",
    "    return df2\n",
    "\n"
   ]
  },
  {
   "cell_type": "code",
   "execution_count": 318,
   "metadata": {},
   "outputs": [],
   "source": [
    "dqn25 = parse(r'rule_based_algorithm/dqn.DQNLauncher25.mue.p')\n",
    "bf25 = parse(r'rule_based_algorithm/best_fit.BestFit25-5.p')\n",
    "ff25 = parse(r'rule_based_algorithm/first_fit.FirstFit25-5.p')\n",
    "rand25 = parse(r'rule_based_algorithm/random_pick.RandomPick25-5.p')\n",
    "rr25 = parse(r'rule_based_algorithm/round_robin.RoundRobin25-5.p')\n",
    "bp25 = parse(r'rule_based_algorithm/bin_packing.BinPacking25-5.p')\n",
    "dqnMoney25 = parse(r'rule_based_algorithm/dqn.DQNLauncher25money.p')\n",
    "dqnChoose25 = parse(r'rule_based_algorithm/dqn.DQNLauncher25choose.p')\n",
    "ac25 = parse(r'rule_based_algorithm/ac.ACLauncher25.p')\n",
    "ac25Final = parse(r'rule_based_algorithm/ac.ACLauncher25.mue.p')\n",
    "dqn25WOW = parse(r'rule_based_algorithm/dqn.DQNLauncher25-5wow.p')\n",
    "dqn25M = parse(r'rule_based_algorithm/dqn.DQNLauncher25-5-M.p')\n",
    "ac25ME = parse(r'rule_based_algorithm/ac.ACLauncher25-5-ME.p')"
   ]
  },
  {
   "cell_type": "code",
   "execution_count": 354,
   "metadata": {},
   "outputs": [
    {
     "data": {
      "image/png": "[encoded data removed]",
      "text/plain": [
       "<Figure size 576x432 with 1 Axes>"
      ]
     },
     "metadata": {
      "needs_background": "light"
     },
     "output_type": "display_data"
    }
   ],
   "source": [
    "\n",
    "fig = plt.figure(figsize=(8, 6))\n",
    "\n",
    "ax1 = fig.add_subplot()\n",
    "\n",
    "ax1.plot(get_rewards(ff25), label=\"FirstFit\")\n",
    "ax1.plot(get_rewards(bf25), label=\"BestFit\")\n",
    "# ax1.plot(get_rewards(rr25), label=\"RoundRobin\")\n",
    "# ax1.plot(get_rewards(bp25), label=\"BinPacking\")\n",
    "ax1.plot(get_rewards(dqn25), label=\"DQN-ME\")\n",
    "ax1.plot(get_rewards(dqn25WOW), label=\"DQN-M\")\n",
    "# ax1.plot(get_rewards(dqn25ME), label=\"DQN-ME\")\n",
    "# ax1.plot(get_rewards(dqnMoney25), label=\"dqnMoney\")\n",
    "# ax1.plot(get_rewards(ac25Final), label=\"AC-MUE\")\n",
    "ax1.plot(get_rewards(ac25ME), label=\"AC-ME\")\n",
    "# ax1.plot(get_rewards(ac25_5choose), label=\"ACChoose\")\n",
    "\n",
    "# ax1.plot(get_rewards(dqnChoose25), label=\"dqnChoose25\")\n",
    "# ax1.plot(x[40:],y[40:], s=10÷ c='r', marker=\"o\", label='second')\n",
    "plt.legend(loc='upper left');\n",
    "# plt.title(\"прибыль за успешные аллокации\")\n",
    "plt.xlabel(\"Время (tick)\")\n",
    "plt.ylabel(\"Полученная выручка ($)\")\n",
    "plt.show()"
   ]
  },
  {
   "cell_type": "code",
   "execution_count": 365,
   "metadata": {},
   "outputs": [
    {
     "data": {
      "image/png": "[encoded data removed]",
      "text/plain": [
       "<Figure size 576x432 with 1 Axes>"
      ]
     },
     "metadata": {
      "needs_background": "light"
     },
     "output_type": "display_data"
    }
   ],
   "source": [
    "\n",
    "fig = plt.figure(figsize=(8, 6))\n",
    "\n",
    "ax1 = fig.add_subplot()\n",
    "\n",
    "ax1.plot(get_losses_by_tick(ff25).iloc[4:], label=\"FirstFit\")\n",
    "ax1.plot(get_losses_by_tick(bf25).iloc[4:], label=\"BestFit\")\n",
    "# ax1.plot(get_losses_by_tick(rr25), label=\"RoundRobin\")\n",
    "# ax1.plot(get_losses_by_tick(bp25), label=\"BinPacking\")\n",
    "ax1.plot(get_losses_by_tick(dqn25).iloc[4:], label=\"DQN-ME\")\n",
    "ax1.plot(get_losses_by_tick(dqn25WOW).iloc[4:], label=\"DQN-M\")\n",
    "# ax1.plot(get_losses_by_tick(dqnMoney25), label=\"dqnMoney\")\n",
    "# ax1.plot(get_losses_by_tick(ac25Final).iloc[4:], label=\"AC-MUE\")\n",
    "ax1.plot(get_losses_by_tick(ac25ME).iloc[4:], label=\"AC-ME\")\n",
    "# ax1.plot(ac25_5choose.groupby('time')['score'].last(), label=\"ACChoose\")\n",
    "\n",
    "# ax1.plot(dqnChoose25.groupby('time')['score'].last(), label=\"dqnChoose25\")\n",
    "# ax1.plot(x[40:],y[40:], s=10÷ c='r', marker=\"o\", label='second')\n",
    "plt.legend(loc='upper right');\n",
    "# plt.title(\"прибыль за успешные аллокации\")\n",
    "plt.xlabel(\"Время (tick)\")\n",
    "plt.ylabel(\"Потерянная выручка ($)\")\n",
    "plt.show()"
   ]
  },
  {
   "cell_type": "code",
   "execution_count": 355,
   "metadata": {},
   "outputs": [
    {
     "data": {
      "image/png": "[encoded data removed]",
      "text/plain": [
       "<Figure size 576x432 with 1 Axes>"
      ]
     },
     "metadata": {
      "needs_background": "light"
     },
     "output_type": "display_data"
    }
   ],
   "source": [
    "fig = plt.figure(figsize=(8, 6))\n",
    "\n",
    "ax1 = fig.add_subplot()\n",
    "\n",
    "dqnf_energy = get_energy(dqn25WOW)\n",
    "dqn25Money_energy = get_energy(dqn25)\n",
    "bf25_energy = get_energy(bf25)\n",
    "ff25_energy = get_energy(ff25)\n",
    "bp25_energy = get_energy(bp25)\n",
    "ac25_energy = get_energy(ac25ME)\n",
    "\n",
    "ax1.plot([dqnf_energy[i] - ff25_energy[i]  for i in range(len(dqnf_energy))], label=\"DQN-M - FF\")\n",
    "ax1.plot([dqnf_energy[i] - bf25_energy[i]  for i in range(len(dqnf_energy))], label=\"DQN-M - BF\")\n",
    "ax1.plot([dqnf_energy[i] - bp25_energy[i]  for i in range(len(dqnf_energy))], label=\"DQN-M - BP\")\n",
    "ax1.plot([dqnf_energy[i] - dqn25Money_energy[i]  for i in range(len(dqnf_energy))], label=\"DQN-M - DQN-ME\")\n",
    "ax1.plot([dqnf_energy[i] - ac25_energy[i]  for i in range(len(dqnf_energy))], label=\"DQN-M - AC-ME\")\n",
    "\n",
    "\n",
    "plt.legend(loc='upper left');\n",
    "plt.xlabel(\"Время (tick)\")\n",
    "plt.ylabel(\"Разница в потраченной энергии (kWt)\")\n",
    "plt.show()"
   ]
  },
  {
   "cell_type": "code",
   "execution_count": 185,
   "metadata": {},
   "outputs": [
    {
     "name": "stdout",
     "output_type": "stream",
     "text": [
      "8636\n",
      "(0.9960634087980857, 0.5883932679919013)\n",
      "310.36219599470496\n",
      "9998    12685.349\n",
      "Name: score, dtype: float64\n"
     ]
    }
   ],
   "source": [
    "ff5_0 = parse(r'rule_based_algorithm/first_fit.FirstFit5-0.p')\n",
    "print(get_mean_util(ff5_0))\n",
    "print(get_energy(ff5_0)[-1])\n",
    "print(ff5_0.iloc[[-1]][\"score\"])\n",
    "\n"
   ]
  },
  {
   "cell_type": "code",
   "execution_count": 186,
   "metadata": {},
   "outputs": [
    {
     "name": "stdout",
     "output_type": "stream",
     "text": [
      "8636\n",
      "(0.9967467329284005, 0.5651153828455733)\n",
      "311.6549483947456\n",
      "9998    11777.553\n",
      "Name: score, dtype: float64\n"
     ]
    }
   ],
   "source": [
    "bf5_0 = parse(r'rule_based_algorithm/best_fit.BestFit5-0.p')\n",
    "print(get_mean_util(bf5_0))\n",
    "print(get_energy(bf5_0)[-1])\n",
    "print(bf5_0.iloc[[-1]][\"score\"])\n"
   ]
  },
  {
   "cell_type": "code",
   "execution_count": 187,
   "metadata": {},
   "outputs": [
    {
     "name": "stdout",
     "output_type": "stream",
     "text": [
      "8636\n",
      "(0.9964890484078778, 0.5641070771212957)\n",
      "310.96434977278113\n",
      "9998    10991.584\n",
      "Name: score, dtype: float64\n"
     ]
    }
   ],
   "source": [
    "bp5_0 = parse(r'rule_based_algorithm/bin_packing.BinPacking5-0.p')\n",
    "print(get_mean_util(bp5_0))\n",
    "print(get_energy(bp5_0)[-1])\n",
    "print(bp5_0.iloc[[-1]][\"score\"])\n"
   ]
  },
  {
   "cell_type": "code",
   "execution_count": 188,
   "metadata": {},
   "outputs": [
    {
     "name": "stdout",
     "output_type": "stream",
     "text": [
      "8636\n",
      "(0.996376311430149, 0.5798258328731825)\n",
      "310.3047532103956\n",
      "9998    12346.798\n",
      "Name: score, dtype: float64\n"
     ]
    }
   ],
   "source": [
    "rr5_0 = parse(r'rule_based_algorithm/round_robin.RoundRobin5-0.p')\n",
    "print(get_mean_util(rr5_0))\n",
    "print(get_energy(rr5_0)[-1])\n",
    "print(rr5_0.iloc[[-1]][\"score\"])\n"
   ]
  },
  {
   "cell_type": "code",
   "execution_count": 189,
   "metadata": {},
   "outputs": [
    {
     "name": "stdout",
     "output_type": "stream",
     "text": [
      "8636\n",
      "(0.9967559359469906, 0.5569695610160132)\n",
      "311.52557929605246\n",
      "9998    11969.688\n",
      "Name: score, dtype: float64\n"
     ]
    }
   ],
   "source": [
    "rp5_0 = parse(r'rule_based_algorithm/random_pick.RandomPick5-0.p')\n",
    "print(get_mean_util(rp5_0))\n",
    "print(get_energy(rp5_0)[-1])\n",
    "print(rp5_0.iloc[[-1]][\"score\"])\n"
   ]
  },
  {
   "cell_type": "code",
   "execution_count": null,
   "metadata": {},
   "outputs": [],
   "source": []
  },
  {
   "cell_type": "code",
   "execution_count": 190,
   "metadata": {},
   "outputs": [
    {
     "name": "stdout",
     "output_type": "stream",
     "text": [
      "8637\n",
      "(0.9994592125427325, 0.5781599964635152)\n",
      "485.11214074119925\n",
      "48302    10792.543\n",
      "Name: score, dtype: float64\n"
     ]
    }
   ],
   "source": [
    "ff5_5 = parse(r'rule_based_algorithm/first_fit.FirstFit5-5.p')\n",
    "print(get_mean_util(ff5_5))\n",
    "print(get_energy(ff5_5)[-1])\n",
    "print(ff5_5.iloc[[-1]][\"score\"])\n"
   ]
  },
  {
   "cell_type": "code",
   "execution_count": 191,
   "metadata": {},
   "outputs": [
    {
     "name": "stdout",
     "output_type": "stream",
     "text": [
      "8637\n",
      "(0.9992695667571715, 0.5647768858458269)\n",
      "484.6995711363852\n",
      "47916    11952.828\n",
      "Name: score, dtype: float64\n"
     ]
    }
   ],
   "source": [
    "bf5_5 = parse(r'rule_based_algorithm/best_fit.BestFit5-5.p')\n",
    "print(get_mean_util(bf5_5))\n",
    "print(get_energy(bf5_5)[-1])\n",
    "print(bf5_5.iloc[[-1]][\"score\"])"
   ]
  },
  {
   "cell_type": "code",
   "execution_count": 192,
   "metadata": {},
   "outputs": [
    {
     "name": "stdout",
     "output_type": "stream",
     "text": [
      "8637\n",
      "(0.9994476846942383, 0.5668290473665606)\n",
      "484.7786408737302\n",
      "48313    11481.567\n",
      "Name: score, dtype: float64\n"
     ]
    }
   ],
   "source": [
    "bp5_5 = parse(r'rule_based_algorithm/bin_packing.BinPacking5-5.p')\n",
    "print(get_mean_util(bp5_5))\n",
    "print(get_energy(bp5_5)[-1])\n",
    "print(bp5_5.iloc[[-1]][\"score\"])"
   ]
  },
  {
   "cell_type": "code",
   "execution_count": 193,
   "metadata": {},
   "outputs": [
    {
     "name": "stdout",
     "output_type": "stream",
     "text": [
      "8637\n",
      "(0.9994562654721207, 0.5570158699752445)\n",
      "484.89115811511874\n",
      "48423    11168.806\n",
      "Name: score, dtype: float64\n"
     ]
    }
   ],
   "source": [
    "rr5_5 = parse(r'rule_based_algorithm/round_robin.RoundRobin5-5.p')\n",
    "print(get_mean_util(rr5_5))\n",
    "print(get_energy(rr5_5)[-1])\n",
    "print(rr5_5.iloc[[-1]][\"score\"])"
   ]
  },
  {
   "cell_type": "code",
   "execution_count": 194,
   "metadata": {},
   "outputs": [
    {
     "name": "stdout",
     "output_type": "stream",
     "text": [
      "8637\n",
      "(0.9993230088495575, 0.5607256637168141)\n",
      "484.9477920308709\n",
      "48172    11416.312\n",
      "Name: score, dtype: float64\n"
     ]
    }
   ],
   "source": [
    "rp5_5 = parse(r'rule_based_algorithm/random_pick.RandomPick5-5.p')\n",
    "print(get_mean_util(rp5_5))\n",
    "print(get_energy(rp5_5)[-1])\n",
    "print(rp5_5.iloc[[-1]][\"score\"])\n"
   ]
  },
  {
   "cell_type": "code",
   "execution_count": 196,
   "metadata": {},
   "outputs": [
    {
     "name": "stdout",
     "output_type": "stream",
     "text": [
      "8637\n",
      "rp\n",
      "(0.9963679712657915, 0.7049866856576665)\n",
      "2312.9625910818577\n",
      "36090    60349.721\n",
      "Name: score, dtype: float64\n",
      "8637\n",
      "ff\n",
      "(0.9966523538860744, 0.6999908871864574)\n",
      "2317.9123263955116\n",
      "36999    58883.931\n",
      "Name: score, dtype: float64\n",
      "8637\n",
      "bf\n",
      "(0.9965416563352343, 0.6912684416067444)\n",
      "2310.590774565935\n",
      "36032    61658.895\n",
      "Name: score, dtype: float64\n",
      "8637\n",
      "bp\n",
      "(0.9963480271270037, 0.6915708230579531)\n",
      "2320.4733298122883\n",
      "36596    61515.012\n",
      "Name: score, dtype: float64\n",
      "8637\n",
      "rr\n",
      "(0.9959050334738409, 0.6888343044879741)\n",
      "2310.5905914902687\n",
      "36470    60359.065\n",
      "Name: score, dtype: float64\n"
     ]
    }
   ],
   "source": [
    "rp25_5 = parse(r'rule_based_algorithm/random_pick.RandomPick25-5.p')\n",
    "print(\"rp\")\n",
    "print(get_mean_util(rp25_5))\n",
    "print(get_energy(rp25_5)[-1])\n",
    "print(rp25_5.iloc[[-1]][\"score\"])\n",
    "\n",
    "ff25_5 = parse(r'rule_based_algorithm/first_fit.FirstFit25-5.p')\n",
    "print(\"ff\")\n",
    "print(get_mean_util(ff25_5))\n",
    "print(get_energy(ff25_5)[-1])\n",
    "print(ff25_5.iloc[[-1]][\"score\"])\n",
    "\n",
    "bf25_5 = parse(r'rule_based_algorithm/best_fit.BestFit25-5.p')\n",
    "print(\"bf\")\n",
    "print(get_mean_util(bf25_5))\n",
    "print(get_energy(bf25_5)[-1])\n",
    "print(bf25_5.iloc[[-1]][\"score\"])\n",
    "\n",
    "bp25_5 = parse(r'rule_based_algorithm/bin_packing.BinPacking25-5.p')\n",
    "print(\"bp\")\n",
    "print(get_mean_util(bp25_5))\n",
    "print(get_energy(bp25_5)[-1])\n",
    "print(bp25_5.iloc[[-1]][\"score\"])\n",
    "\n",
    "rr25_5 = parse(r'rule_based_algorithm/round_robin.RoundRobin25-5.p')\n",
    "print(\"rr\")\n",
    "print(get_mean_util(rr25_5))\n",
    "print(get_energy(rr25_5)[-1])\n",
    "print(rr25_5.iloc[[-1]][\"score\"])\n"
   ]
  },
  {
   "cell_type": "code",
   "execution_count": 198,
   "metadata": {},
   "outputs": [
    {
     "name": "stdout",
     "output_type": "stream",
     "text": [
      "dqn final\n",
      "(0.9908005529722257, 0.6883487024004022)\n",
      "2278.3783646523952\n",
      "34191    64133.893\n",
      "Name: score, dtype: float64\n",
      "dqn money\n",
      "(0.9888591867469879, 0.6938827183734939)\n",
      "2279.9641813337803\n",
      "35015    61876.879\n",
      "Name: score, dtype: float64\n"
     ]
    }
   ],
   "source": [
    "print(\"dqn final\")\n",
    "print(get_mean_util(dqn25))\n",
    "print(get_energy(dqn25)[-1])\n",
    "print(dqn25.iloc[[-1]][\"score\"])\n",
    "\n",
    "\n",
    "print(\"dqn money\")\n",
    "print(get_mean_util(dqnMoney25))\n",
    "print(get_energy(dqnMoney25)[-1])\n",
    "print(dqnMoney25.iloc[[-1]][\"score\"])"
   ]
  },
  {
   "cell_type": "code",
   "execution_count": 199,
   "metadata": {},
   "outputs": [
    {
     "name": "stdout",
     "output_type": "stream",
     "text": [
      "8637\n",
      "rr\n",
      "(0.9966117238815219, 0.6896012517040526)\n",
      "2311.4410207271576\n",
      "36432    60362.348\n",
      "Name: score, dtype: float64\n"
     ]
    }
   ],
   "source": [
    "ac25_5final = parse(r'rule_based_algorithm/ac.ACLauncher25-5.p')\n",
    "print(\"rr\")\n",
    "print(get_mean_util(ac25_5final))\n",
    "print(get_energy(ac25_5final)[-1])\n",
    "print(ac25_5final.iloc[[-1]][\"score\"])"
   ]
  },
  {
   "cell_type": "code",
   "execution_count": 200,
   "metadata": {},
   "outputs": [
    {
     "name": "stdout",
     "output_type": "stream",
     "text": [
      "8637\n",
      "rr\n",
      "(0.9942533936651584, 0.6917125439919558)\n",
      "2278.2351412773132\n",
      "34294    60629.373\n",
      "Name: score, dtype: float64\n"
     ]
    }
   ],
   "source": [
    "ac25_5choose = parse(r'rule_based_algorithm/ac.ACLauncher25-5.p')\n",
    "print(\"rr\")\n",
    "print(get_mean_util(ac25_5choose))\n",
    "print(get_energy(ac25_5choose)[-1])\n",
    "print(ac25_5choose.iloc[[-1]][\"score\"])"
   ]
  },
  {
   "cell_type": "code",
   "execution_count": 214,
   "metadata": {},
   "outputs": [
    {
     "name": "stdout",
     "output_type": "stream",
     "text": [
      "8636\n",
      "rr\n",
      "(0.9965442665194184, 0.5614002392784834)\n",
      "310.7819185219705\n",
      "9998    11976.37\n",
      "Name: score, dtype: float64\n"
     ]
    }
   ],
   "source": [
    "ac5_5valid = parse(r'rule_based_algorithm/ac.ACLauncher5-0.p')\n",
    "print(\"rr\")\n",
    "print(get_mean_util(ac5_5valid))\n",
    "print(get_energy(ac5_5valid)[-1])\n",
    "print(ac5_5valid.iloc[[-1]][\"score\"])"
   ]
  },
  {
   "cell_type": "code",
   "execution_count": 209,
   "metadata": {},
   "outputs": [
    {
     "name": "stdout",
     "output_type": "stream",
     "text": [
      "8636\n",
      "rr\n",
      "(0.9488933370145408, 0.6141180057058715)\n",
      "308.03017480671406\n",
      "9998    12506.793\n",
      "Name: score, dtype: float64\n"
     ]
    }
   ],
   "source": [
    "ac5_5simple = parse(r'rule_based_algorithm/ac.ACLauncher5-0.p')\n",
    "print(\"rr\")\n",
    "print(get_mean_util(ac5_5simple))\n",
    "print(get_energy(ac5_5simple)[-1])\n",
    "print(ac5_5simple.iloc[[-1]][\"score\"])"
   ]
  },
  {
   "cell_type": "code",
   "execution_count": 210,
   "metadata": {},
   "outputs": [
    {
     "name": "stdout",
     "output_type": "stream",
     "text": [
      "8637\n",
      "rr\n",
      "(0.9994592125427325, 0.5781599964635152)\n",
      "485.11214108765125\n",
      "48302    10792.543\n",
      "Name: score, dtype: float64\n"
     ]
    }
   ],
   "source": [
    "ac5_5money = parse(r'rule_based_algorithm/ac.ACLauncher5-5.p')\n",
    "print(\"rr\")\n",
    "print(get_mean_util(ac5_5money))\n",
    "print(get_energy(ac5_5money)[-1])\n",
    "print(ac5_5money.iloc[[-1]][\"score\"])"
   ]
  },
  {
   "cell_type": "code",
   "execution_count": 201,
   "metadata": {},
   "outputs": [
    {
     "name": "stdout",
     "output_type": "stream",
     "text": [
      "8637\n",
      "rr\n",
      "(0.9992055771725032, 0.5671018305624337)\n",
      "484.0128677673638\n",
      "48131    12100.657\n",
      "Name: score, dtype: float64\n"
     ]
    }
   ],
   "source": [
    "dqn5_0valid = parse(r'rule_based_algorithm/dqn.DQNLauncher5-5.p')\n",
    "print(\"rr\")\n",
    "print(get_mean_util(dqn5_0valid))\n",
    "print(get_energy(dqn5_0valid)[-1])\n",
    "print(dqn5_0valid.iloc[[-1]][\"score\"])"
   ]
  },
  {
   "cell_type": "code",
   "execution_count": 218,
   "metadata": {},
   "outputs": [
    {
     "name": "stdout",
     "output_type": "stream",
     "text": [
      "8636\n",
      "rr\n",
      "(0.6055011043622308, 0.4057938753911283)\n",
      "297.2652039565146\n",
      "9998    9446.949\n",
      "Name: score, dtype: float64\n"
     ]
    }
   ],
   "source": [
    "dqn5_0money = parse(r'rule_based_algorithm/dqn.DQNLauncher5-0.p')\n",
    "print(\"rr\")\n",
    "print(get_mean_util(dqn5_0money))\n",
    "print(get_energy(dqn5_0money)[-1])\n",
    "print(dqn5_0money.iloc[[-1]][\"score\"])"
   ]
  },
  {
   "cell_type": "code",
   "execution_count": 216,
   "metadata": {},
   "outputs": [
    {
     "name": "stdout",
     "output_type": "stream",
     "text": [
      "8636\n",
      "rr\n",
      "(0.9964016197312718, 0.5557541873734585)\n",
      "310.5036327764392\n",
      "9998    12417.037\n",
      "Name: score, dtype: float64\n"
     ]
    }
   ],
   "source": [
    "dqn5_0money = parse(r'rule_based_algorithm/dqn.DQNLauncher5-0.p')\n",
    "print(\"rr\")\n",
    "print(get_mean_util(dqn5_0money))\n",
    "print(get_energy(dqn5_0money)[-1])\n",
    "print(dqn5_0money.iloc[[-1]][\"score\"])"
   ]
  },
  {
   "cell_type": "code",
   "execution_count": 217,
   "metadata": {},
   "outputs": [
    {
     "name": "stdout",
     "output_type": "stream",
     "text": [
      "8637\n",
      "rr\n",
      "(0.9984989953906158, 0.5553735521805933)\n",
      "484.8272892013192\n",
      "47145    14113.485\n",
      "Name: score, dtype: float64\n"
     ]
    }
   ],
   "source": [
    "dqn5_5money = parse(r'rule_based_algorithm/dqn.DQNLauncher5-5.p')\n",
    "print(\"rr\")\n",
    "print(get_mean_util(dqn5_5money))\n",
    "print(get_energy(dqn5_5money)[-1])\n",
    "print(dqn5_5money.iloc[[-1]][\"score\"])"
   ]
  },
  {
   "cell_type": "code",
   "execution_count": 221,
   "metadata": {},
   "outputs": [
    {
     "name": "stdout",
     "output_type": "stream",
     "text": [
      "8637\n",
      "rr\n",
      "(0.30472615894039734, 0.2268158112582781)\n",
      "1973.3912616372108\n",
      "30628    43100.73\n",
      "Name: score, dtype: float64\n"
     ]
    }
   ],
   "source": [
    "dqn25_5free = parse(r'rule_based_algorithm/dqn.DQNLauncher25choose.p')\n",
    "print(\"rr\")\n",
    "print(get_mean_util(dqn25_5free))\n",
    "print(get_energy(dqn25_5free)[-1])\n",
    "print(dqn25_5free.iloc[[-1]][\"score\"])"
   ]
  },
  {
   "cell_type": "code",
   "execution_count": 223,
   "metadata": {},
   "outputs": [
    {
     "name": "stdout",
     "output_type": "stream",
     "text": [
      "8637\n",
      "rr\n",
      "(0.9799346268656717, 0.6870815671641791)\n",
      "2396.809341609478\n",
      "38913    57420.036\n",
      "Name: score, dtype: float64\n"
     ]
    }
   ],
   "source": [
    "ac25_5free = parse(r'rule_based_algorithm/ac.ACLauncher25-5noopt.p')\n",
    "print(\"rr\")\n",
    "print(get_mean_util(ac25_5free))\n",
    "print(get_energy(ac25_5free)[-1])\n",
    "print(ac25_5free.iloc[[-1]][\"score\"])"
   ]
  },
  {
   "cell_type": "code",
   "execution_count": null,
   "metadata": {},
   "outputs": [],
   "source": [
    "ac25_5final = parse(r'rule_based_algorithm/ac.ACLauncher25-5.p')\n",
    "print(\"rr\")\n",
    "print(get_mean_util(ac25_5final))\n",
    "print(get_energy(ac25_5final)[-1])\n",
    "print(ac25_5final.iloc[[-1]][\"score\"])"
   ]
  },
  {
   "cell_type": "code",
   "execution_count": 240,
   "metadata": {},
   "outputs": [
    {
     "name": "stdout",
     "output_type": "stream",
     "text": [
      "(0.9888591867469879, 0.6938827183734939)\n",
      "2279.678147405386\n",
      "35015    61876.879\n",
      "Name: score, dtype: float64\n"
     ]
    }
   ],
   "source": [
    "print(get_mean_util(dqnMoney25))\n",
    "print(get_energy(dqnMoney25)[-2])\n",
    "print(dqnMoney25.iloc[[-1]][\"score\"])"
   ]
  },
  {
   "cell_type": "code",
   "execution_count": 237,
   "metadata": {},
   "outputs": [
    {
     "name": "stdout",
     "output_type": "stream",
     "text": [
      "(0.9908005529722257, 0.6883487024004022)\n",
      "2278.3783646523952\n",
      "34191    64133.893\n",
      "Name: score, dtype: float64\n"
     ]
    }
   ],
   "source": [
    "print(get_mean_util(dqn25))\n",
    "print(get_energy(dqn25)[-1])\n",
    "print(dqn25.iloc[[-1]][\"score\"])"
   ]
  }
 ],
 "metadata": {
  "interpreter": {
   "hash": "41f23a74c897328a63a111b740fbafcaeec3bc228807209881fd7cf2f8105e0d"
  },
  "kernelspec": {
   "display_name": "Python 3.9.7 64-bit ('base': conda)",
   "language": "python",
   "name": "python3"
  },
  "language_info": {
   "codemirror_mode": {
    "name": "ipython",
    "version": 3
   },
   "file_extension": ".py",
   "mimetype": "text/x-python",
   "name": "python",
   "nbconvert_exporter": "python",
   "pygments_lexer": "ipython3",
   "version": "3.7.9"
  },
  "orig_nbformat": 4
 },
 "nbformat": 4,
 "nbformat_minor": 2
}
